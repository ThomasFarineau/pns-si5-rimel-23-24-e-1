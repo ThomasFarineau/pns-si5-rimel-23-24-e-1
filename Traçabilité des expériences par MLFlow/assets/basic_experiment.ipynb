{
 "cells": [
  {
   "cell_type": "markdown",
   "source": [
    "# Expérience de Machine Learning avec et sans MLflow\n",
    "Ce notebook illustre comment effectuer et comparer des expériences de machine learning avec et sans MLflow, afin de démontrer l'impact de MLflow sur la traçabilité et la reproductibilité."
   ],
   "metadata": {
    "collapsed": false
   },
   "id": "62d0806a8dc97207"
  },
  {
   "cell_type": "markdown",
   "source": [
    "## Installation des Dépendances"
   ],
   "metadata": {
    "collapsed": false
   },
   "id": "83216e257d2da977"
  },
  {
   "cell_type": "code",
   "outputs": [
    {
     "name": "stdout",
     "output_type": "stream",
     "text": [
      "Requirement already satisfied: mlflow in c:\\python310\\lib\\site-packages (2.10.0)\n",
      "Requirement already satisfied: numpy in c:\\python310\\lib\\site-packages (1.23.5)\n",
      "Requirement already satisfied: pandas in c:\\python310\\lib\\site-packages (2.0.0)\n",
      "Requirement already satisfied: scikit-learn in c:\\python310\\lib\\site-packages (1.2.2)\n",
      "Requirement already satisfied: click<9,>=7.0 in c:\\python310\\lib\\site-packages (from mlflow) (8.1.7)\n",
      "Requirement already satisfied: cloudpickle<4 in c:\\python310\\lib\\site-packages (from mlflow) (3.0.0)\n",
      "Requirement already satisfied: databricks-cli<1,>=0.8.7 in c:\\python310\\lib\\site-packages (from mlflow) (0.18.0)\n",
      "Requirement already satisfied: entrypoints<1 in c:\\python310\\lib\\site-packages (from mlflow) (0.4)\n",
      "Requirement already satisfied: gitpython<4,>=2.1.0 in c:\\python310\\lib\\site-packages (from mlflow) (3.1.41)\n",
      "Requirement already satisfied: pyyaml<7,>=5.1 in c:\\python310\\lib\\site-packages (from mlflow) (6.0.1)\n",
      "Requirement already satisfied: protobuf<5,>=3.12.0 in c:\\python310\\lib\\site-packages (from mlflow) (4.22.3)\n",
      "Requirement already satisfied: pytz<2024 in c:\\python310\\lib\\site-packages (from mlflow) (2023.3)\n",
      "Requirement already satisfied: requests<3,>=2.17.3 in c:\\python310\\lib\\site-packages (from mlflow) (2.31.0)\n",
      "Requirement already satisfied: packaging<24 in c:\\python310\\lib\\site-packages (from mlflow) (23.1)\n",
      "Requirement already satisfied: importlib-metadata!=4.7.0,<8,>=3.7.0 in c:\\python310\\lib\\site-packages (from mlflow) (7.0.1)\n",
      "Requirement already satisfied: sqlparse<1,>=0.4.0 in c:\\python310\\lib\\site-packages (from mlflow) (0.4.4)\n",
      "Requirement already satisfied: alembic!=1.10.0,<2 in c:\\python310\\lib\\site-packages (from mlflow) (1.13.1)\n",
      "Requirement already satisfied: docker<8,>=4.0.0 in c:\\python310\\lib\\site-packages (from mlflow) (7.0.0)\n",
      "Requirement already satisfied: Flask<4 in c:\\python310\\lib\\site-packages (from mlflow) (3.0.1)\n",
      "Requirement already satisfied: scipy<2 in c:\\python310\\lib\\site-packages (from mlflow) (1.10.1)\n",
      "Requirement already satisfied: querystring-parser<2 in c:\\python310\\lib\\site-packages (from mlflow) (1.2.4)\n",
      "Requirement already satisfied: sqlalchemy<3,>=1.4.0 in c:\\python310\\lib\\site-packages (from mlflow) (2.0.25)\n",
      "Requirement already satisfied: pyarrow<16,>=4.0.0 in c:\\python310\\lib\\site-packages (from mlflow) (15.0.0)\n",
      "Requirement already satisfied: markdown<4,>=3.3 in c:\\python310\\lib\\site-packages (from mlflow) (3.4.3)\n",
      "Requirement already satisfied: matplotlib<4 in c:\\python310\\lib\\site-packages (from mlflow) (3.8.2)\n",
      "Requirement already satisfied: waitress<3 in c:\\python310\\lib\\site-packages (from mlflow) (2.1.2)\n",
      "Requirement already satisfied: Jinja2<4,>=3.0 in c:\\python310\\lib\\site-packages (from mlflow) (3.1.2)\n",
      "Requirement already satisfied: python-dateutil>=2.8.2 in c:\\python310\\lib\\site-packages (from pandas) (2.8.2)\n",
      "Requirement already satisfied: tzdata>=2022.1 in c:\\python310\\lib\\site-packages (from pandas) (2023.3)\n",
      "Requirement already satisfied: joblib>=1.1.1 in c:\\python310\\lib\\site-packages (from scikit-learn) (1.2.0)\n",
      "Requirement already satisfied: threadpoolctl>=2.0.0 in c:\\python310\\lib\\site-packages (from scikit-learn) (3.1.0)\n",
      "Requirement already satisfied: Mako in c:\\python310\\lib\\site-packages (from alembic!=1.10.0,<2->mlflow) (1.3.2)\n",
      "Requirement already satisfied: typing-extensions>=4 in c:\\python310\\lib\\site-packages (from alembic!=1.10.0,<2->mlflow) (4.9.0)\n",
      "Requirement already satisfied: colorama in c:\\python310\\lib\\site-packages (from click<9,>=7.0->mlflow) (0.4.6)\n",
      "Requirement already satisfied: pyjwt>=1.7.0 in c:\\python310\\lib\\site-packages (from databricks-cli<1,>=0.8.7->mlflow) (2.8.0)\n",
      "Requirement already satisfied: oauthlib>=3.1.0 in c:\\python310\\lib\\site-packages (from databricks-cli<1,>=0.8.7->mlflow) (3.2.2)\n",
      "Requirement already satisfied: tabulate>=0.7.7 in c:\\python310\\lib\\site-packages (from databricks-cli<1,>=0.8.7->mlflow) (0.9.0)\n",
      "Requirement already satisfied: six>=1.10.0 in c:\\python310\\lib\\site-packages (from databricks-cli<1,>=0.8.7->mlflow) (1.16.0)\n",
      "Requirement already satisfied: urllib3<3,>=1.26.7 in c:\\python310\\lib\\site-packages (from databricks-cli<1,>=0.8.7->mlflow) (1.26.15)\n",
      "Requirement already satisfied: pywin32>=304 in c:\\python310\\lib\\site-packages (from docker<8,>=4.0.0->mlflow) (306)\n",
      "Requirement already satisfied: Werkzeug>=3.0.0 in c:\\python310\\lib\\site-packages (from Flask<4->mlflow) (3.0.1)\n",
      "Requirement already satisfied: itsdangerous>=2.1.2 in c:\\python310\\lib\\site-packages (from Flask<4->mlflow) (2.1.2)\n",
      "Requirement already satisfied: blinker>=1.6.2 in c:\\python310\\lib\\site-packages (from Flask<4->mlflow) (1.7.0)\n",
      "Requirement already satisfied: gitdb<5,>=4.0.1 in c:\\python310\\lib\\site-packages (from gitpython<4,>=2.1.0->mlflow) (4.0.11)\n",
      "Requirement already satisfied: zipp>=0.5 in c:\\python310\\lib\\site-packages (from importlib-metadata!=4.7.0,<8,>=3.7.0->mlflow) (3.17.0)\n",
      "Requirement already satisfied: MarkupSafe>=2.0 in c:\\python310\\lib\\site-packages (from Jinja2<4,>=3.0->mlflow) (2.1.2)\n",
      "Requirement already satisfied: contourpy>=1.0.1 in c:\\python310\\lib\\site-packages (from matplotlib<4->mlflow) (1.2.0)\n",
      "Requirement already satisfied: cycler>=0.10 in c:\\python310\\lib\\site-packages (from matplotlib<4->mlflow) (0.12.1)\n",
      "Requirement already satisfied: fonttools>=4.22.0 in c:\\python310\\lib\\site-packages (from matplotlib<4->mlflow) (4.47.2)\n",
      "Requirement already satisfied: kiwisolver>=1.3.1 in c:\\python310\\lib\\site-packages (from matplotlib<4->mlflow) (1.4.5)\n",
      "Requirement already satisfied: pillow>=8 in c:\\python310\\lib\\site-packages (from matplotlib<4->mlflow) (10.2.0)\n",
      "Requirement already satisfied: pyparsing>=2.3.1 in c:\\python310\\lib\\site-packages (from matplotlib<4->mlflow) (3.1.1)\n",
      "Requirement already satisfied: charset-normalizer<4,>=2 in c:\\python310\\lib\\site-packages (from requests<3,>=2.17.3->mlflow) (3.1.0)\n",
      "Requirement already satisfied: idna<4,>=2.5 in c:\\python310\\lib\\site-packages (from requests<3,>=2.17.3->mlflow) (3.4)\n",
      "Requirement already satisfied: certifi>=2017.4.17 in c:\\python310\\lib\\site-packages (from requests<3,>=2.17.3->mlflow) (2022.12.7)\n",
      "Requirement already satisfied: greenlet!=0.4.17 in c:\\python310\\lib\\site-packages (from sqlalchemy<3,>=1.4.0->mlflow) (3.0.3)\n",
      "Requirement already satisfied: smmap<6,>=3.0.1 in c:\\python310\\lib\\site-packages (from gitdb<5,>=4.0.1->gitpython<4,>=2.1.0->mlflow) (5.0.1)\n"
     ]
    },
    {
     "name": "stderr",
     "output_type": "stream",
     "text": [
      "WARNING: Ignoring invalid distribution - (c:\\python310\\lib\\site-packages)\n",
      "WARNING: Ignoring invalid distribution -ip (c:\\python310\\lib\\site-packages)\n",
      "WARNING: Ignoring invalid distribution -umba (c:\\python310\\lib\\site-packages)\n",
      "WARNING: Ignoring invalid distribution -umpy (c:\\python310\\lib\\site-packages)\n",
      "WARNING: Ignoring invalid distribution -p (c:\\python310\\lib\\site-packages)\n",
      "WARNING: Ignoring invalid distribution - (c:\\python310\\lib\\site-packages)\n",
      "WARNING: Ignoring invalid distribution -ip (c:\\python310\\lib\\site-packages)\n",
      "WARNING: Ignoring invalid distribution -umba (c:\\python310\\lib\\site-packages)\n",
      "WARNING: Ignoring invalid distribution -umpy (c:\\python310\\lib\\site-packages)\n",
      "WARNING: Ignoring invalid distribution -p (c:\\python310\\lib\\site-packages)\n"
     ]
    }
   ],
   "source": [
    "!pip install mlflow numpy pandas scikit-learn"
   ],
   "metadata": {
    "collapsed": false,
    "ExecuteTime": {
     "end_time": "2024-02-01T17:03:04.072836300Z",
     "start_time": "2024-02-01T17:02:59.890894500Z"
    }
   },
   "id": "fcd66ab83f42f746",
   "execution_count": 31
  },
  {
   "cell_type": "code",
   "outputs": [],
   "source": [
    "import numpy as np\n",
    "import pandas as pd\n",
    "from sklearn.datasets import load_diabetes\n",
    "from sklearn.model_selection import train_test_split\n",
    "from sklearn.linear_model import LinearRegression\n",
    "from sklearn.metrics import mean_squared_error, mean_absolute_error, r2_score\n",
    "import mlflow\n",
    "import mlflow.sklearn\n",
    "\n",
    "# Chargement des données\n",
    "X, y = load_diabetes(return_X_y=True)\n",
    "X_train, X_test, y_train, y_test = train_test_split(X, y, test_size=0.2, random_state=42)"
   ],
   "metadata": {
    "collapsed": false,
    "ExecuteTime": {
     "end_time": "2024-02-01T17:03:40.338001100Z",
     "start_time": "2024-02-01T17:03:40.317996900Z"
    }
   },
   "id": "6b0b625465c9d99b",
   "execution_count": 32
  },
  {
   "cell_type": "markdown",
   "source": [
    "## Expérience sans MLflow\n",
    "Tout d'abord, réalisons une expérience simple de machine learning sans utiliser MLflow pour enregistrer les détails de l'expérience."
   ],
   "metadata": {
    "collapsed": false
   },
   "id": "e94b066cb649f79b"
  },
  {
   "cell_type": "code",
   "outputs": [
    {
     "name": "stdout",
     "output_type": "stream",
     "text": [
      "Sans MLflow - MSE: 2900.19362849348, MAE: 42.79409467959994, R2: 0.4526027629719197\n"
     ]
    }
   ],
   "source": [
    "# Entraînement du modèle\n",
    "model_without_mlflow = LinearRegression()\n",
    "model_without_mlflow.fit(X_train, y_train)\n",
    "\n",
    "# Prédiction et évaluation\n",
    "y_pred = model_without_mlflow.predict(X_test)\n",
    "mse_without_mlflow = mean_squared_error(y_test, y_pred)\n",
    "mae_without_mlflow = mean_absolute_error(y_test, y_pred)\n",
    "r2_without_mlflow = r2_score(y_test, y_pred)\n",
    "\n",
    "print(f\"Sans MLflow - MSE: {mse_without_mlflow}, MAE: {mae_without_mlflow}, R2: {r2_without_mlflow}\")"
   ],
   "metadata": {
    "collapsed": false,
    "ExecuteTime": {
     "end_time": "2024-02-01T17:03:51.051299800Z",
     "start_time": "2024-02-01T17:03:51.009629Z"
    }
   },
   "id": "adea4eb0aad33c45",
   "execution_count": 34
  },
  {
   "cell_type": "markdown",
   "source": [
    "## Expérience avec MLflow\n",
    "Maintenant, répétons la même expérience en utilisant MLflow pour enregistrer les détails."
   ],
   "metadata": {
    "collapsed": false
   },
   "id": "b866abdc0dce74aa"
  },
  {
   "cell_type": "code",
   "outputs": [
    {
     "name": "stderr",
     "output_type": "stream",
     "text": [
      "2024/02/01 18:12:11 INFO mlflow.tracking.fluent: Autologging successfully enabled for sklearn.\n"
     ]
    },
    {
     "name": "stdout",
     "output_type": "stream",
     "text": [
      "Avec MLflow - MSE: 2900.19362849348, MAE: 42.79409467959994, R2: 0.4526027629719197\n"
     ]
    }
   ],
   "source": [
    "mlflow.set_experiment(\"linear_regression_with_metrics\")\n",
    "\n",
    "with mlflow.start_run():\n",
    "    # Entraînement du modèle\n",
    "    model_with_mlflow = LinearRegression()\n",
    "    model_with_mlflow.fit(X_train, y_train)\n",
    "    \n",
    "    # Prédiction et évaluation\n",
    "    y_pred = model_with_mlflow.predict(X_test)\n",
    "    mse_with_mlflow = mean_squared_error(y_test, y_pred)\n",
    "    mae_with_mlflow = mean_absolute_error(y_test, y_pred)\n",
    "    r2_with_mlflow = r2_score(y_test, y_pred)\n",
    "\n",
    "    # Enregistrement des métriques avec MLflow\n",
    "    # mlflow.log_metrics({\"mse\": mse_with_mlflow, \"mae\": mae_with_mlflow, \"r2\": r2_with_mlflow})\n",
    "    # mlflow.sklearn.log_model(model_with_mlflow, \"model\")\n",
    "    mlflow.autolog()\n",
    "    print(f\"Avec MLflow - MSE: {mse_with_mlflow}, MAE: {mae_with_mlflow}, R2: {r2_with_mlflow}\")\n"
   ],
   "metadata": {
    "collapsed": false,
    "ExecuteTime": {
     "end_time": "2024-02-01T17:12:11.527955600Z",
     "start_time": "2024-02-01T17:12:06.770714900Z"
    }
   },
   "id": "2cb13a73cd5dc779",
   "execution_count": 43
  },
  {
   "cell_type": "markdown",
   "source": [
    "## Comparaison des Résultats\n",
    "\n",
    "En comparant les résultats, nous pouvons observer que l'utilisation de MLflow n'affecte pas directement les performances du modèle (mesurées par le MSE dans cet exemple), mais fournit une plate-forme pour enregistrer de manière systématique et accessible les détails de l'expérience, facilitant ainsi la reproductibilité."
   ],
   "metadata": {
    "collapsed": false
   },
   "id": "8900f960c5bf9986"
  },
  {
   "cell_type": "code",
   "outputs": [
    {
     "name": "stdout",
     "output_type": "stream",
     "text": [
      "^C\n"
     ]
    }
   ],
   "source": [
    "!mlflow ui"
   ],
   "metadata": {
    "collapsed": false,
    "ExecuteTime": {
     "end_time": "2024-02-01T16:55:54.881837900Z",
     "start_time": "2024-02-01T15:19:34.606336800Z"
    }
   },
   "id": "e608e96c07eba2c7",
   "execution_count": 13
  }
 ],
 "metadata": {
  "kernelspec": {
   "display_name": "Python 3",
   "language": "python",
   "name": "python3"
  },
  "language_info": {
   "codemirror_mode": {
    "name": "ipython",
    "version": 2
   },
   "file_extension": ".py",
   "mimetype": "text/x-python",
   "name": "python",
   "nbconvert_exporter": "python",
   "pygments_lexer": "ipython2",
   "version": "2.7.6"
  }
 },
 "nbformat": 4,
 "nbformat_minor": 5
}
